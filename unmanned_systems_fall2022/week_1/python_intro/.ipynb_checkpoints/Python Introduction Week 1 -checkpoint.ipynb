{
 "cells": [
  {
   "cell_type": "markdown",
   "id": "36805711",
   "metadata": {},
   "source": [
    "# Introduction to Python \n",
    "\n",
    " \n",
    "## 1. Applying Methods/Functions \n",
    "\n",
    "## 2. What the Heck is Numpy Package?\n",
    "\n",
    "## 3. Object Oriented Programming and why?\n"
   ]
  },
  {
   "cell_type": "markdown",
   "id": "5ae3bff3",
   "metadata": {},
   "source": [
    "# 1. Applying Methods/Functions \n",
    "To apply methods we simply use the *def command(input):* to define a function, to return output value we use the *return value*, where value can be any variable\n",
    "\n",
    "```\n",
    "def function(input):\n",
    "    value = input\n",
    "    return value\n",
    "```\n",
    "\n",
    "Here is an example of how to do it: \n"
   ]
  },
  {
   "cell_type": "code",
   "execution_count": 1,
   "id": "f4624d50",
   "metadata": {},
   "outputs": [
    {
     "name": "stdout",
     "output_type": "stream",
     "text": [
      "sum total is 11\n"
     ]
    }
   ],
   "source": [
    "def add(x,y):\n",
    "    \"\"\"add two numbers\"\"\"\n",
    "    return x+y\n",
    "\n",
    "x = 4\n",
    "y = 7\n",
    "\n",
    "sum_total = add(x,y)\n",
    "print(\"sum total is\", sum_total)"
   ]
  },
  {
   "cell_type": "markdown",
   "id": "7962854d",
   "metadata": {},
   "source": [
    "## Thats Cool but why should I use Functions? \n",
    "Functions help us **modularize** our code, which makes it a lot more readable and easier to debug, when your code breaks or has issues (which it will)\n",
    "\n",
    "Let's give an example: \n",
    "    Say you have this piece of code \n",
    " "
   ]
  },
  {
   "cell_type": "code",
   "execution_count": 2,
   "id": "b9b2457d",
   "metadata": {},
   "outputs": [
    {
     "name": "stdout",
     "output_type": "stream",
     "text": [
      "minimum magnitude is 2.8284271247461903\n",
      "coordinates with min mag:  2,2\n"
     ]
    }
   ],
   "source": [
    "\"\"\"this block of code computes the magnitude of the respective x,y coordinate from origin coordinate in\n",
    "each respective list, computes the angle, and then finds the minimum magnitude and return the x,y coordinates\"\"\"\n",
    "#import from python library\n",
    "import math as m\n",
    "\n",
    "x_origin = 0\n",
    "y_origin = 0\n",
    "\n",
    "x_list = [2,4,6,8]\n",
    "y_list= [2,4,6,8]\n",
    "\n",
    "magnitude_list = []\n",
    "for idx, x in enumerate(x_list):\n",
    "    magnitude = m.sqrt((x-x_origin)**2+(y_list[idx]-y_origin)**2)\n",
    "    magnitude_list.append(magnitude)\n",
    "    \n",
    "angle_list = []\n",
    "for idx, x in enumerate(x_list):\n",
    "    angle = m.degrees(m.atan2(y_list[idx], x))\n",
    "    angle_list.append(angle)\n",
    "    \n",
    "min_mag = min(magnitude_list)\n",
    "min_idx = magnitude_list.index(min_mag)\n",
    "min_x = x_list[min_idx]\n",
    "min_y = y_list[min_idx]\n",
    "print(\"minimum magnitude is\", min_mag)\n",
    "print(\"coordinates with min mag: \",str(min_x)+\",\"+str(min_y))\n"
   ]
  },
  {
   "cell_type": "markdown",
   "id": "c7a0d810",
   "metadata": {},
   "source": [
    "This block of code definitely works. It seems explanatory but if you were to give it to your colleague to work together on for a project, do you think they would be able to dissect what is going on and if so how long would it take? Also what if there was a segment of the code that doesn't work? How can we debug or check that our angle or magnitude works? What if we want to do something in between our methods such as adding an offset to our angles or magnitudes? \n",
    "\n",
    "We could comment the code blocks, but what happens if we make those changes previously mentioned? That means the comments are no longer correct and we have to constantly book-keep these changes. \n",
    "\n",
    "**The big take home message is, if you have long blocks of code that does numerous things such as add, subtract, compare values, pull values out of another list, and your code block is like 400+ line long your code you will have issues since it will be a nightmare to debug. You NEED to MODULARIZE your code with functions.**\n",
    "\n",
    "Let's modularize this code\n"
   ]
  },
  {
   "cell_type": "code",
   "execution_count": 3,
   "id": "0357c374",
   "metadata": {},
   "outputs": [
    {
     "name": "stdout",
     "output_type": "stream",
     "text": [
      "minimum magnitude is: 2.8284271247461903 , minimum vector is: [2, 2]\n"
     ]
    }
   ],
   "source": [
    "import math as m\n",
    "\n",
    "def compute_magnitude(x_list, y_list, x_origin, y_origin):\n",
    "    \"\"\"computes the magnitude of x list and y list and returns the magnitude list\"\"\"\n",
    "    magnitude_list = []\n",
    "    for idx, x in enumerate(x_list):\n",
    "        magnitude = m.sqrt((x-x_origin)**2+(y_list[idx]-y_origin)**2)\n",
    "        magnitude_list.append(magnitude)\n",
    "        \n",
    "    return magnitude_list\n",
    "\n",
    "def compute_degree_angles(x_list, y_list):\n",
    "    \"\"\"computes the degree angles of x list and y list and returns the angles list\"\"\"\n",
    "    angle_list = []\n",
    "    for idx, x in enumerate(x_list):\n",
    "        angle = m.degrees(m.atan2(y_list[idx], x))\n",
    "        angle_list.append(angle)\n",
    "        \n",
    "    return angle_list\n",
    "    \n",
    "def find_min_magnitude_vector(magnitude_list, x_list, y_list):\n",
    "    \"\"\"returns the minimum magnitude and the vector \"\"\"\n",
    "    min_mag = min(magnitude_list)\n",
    "    min_idx = magnitude_list.index(min_mag)\n",
    "    min_vector= [x_list[min_idx], y_list[min_idx]]\n",
    "    \n",
    "    return min_mag, min_vector\n",
    "\n",
    "if __name__ =='__main__':\n",
    "    x_origin = 0\n",
    "    y_origin = 0\n",
    "\n",
    "    x_list = [2,4,6,8]\n",
    "    y_list= [2,4,6,8]\n",
    "\n",
    "    magnitude_list = compute_magnitude(x_list, y_list, x_origin, y_origin)\n",
    "    angle_list = compute_degree_angles(x_list, y_list)\n",
    "    min_mag, min_vector = find_min_magnitude_vector(magnitude_list, x_list, y_list)\n",
    "    print(\"minimum magnitude is:\", min_mag, \", minimum vector is:\", min_vector )\n",
    "\n"
   ]
  },
  {
   "cell_type": "markdown",
   "id": "a160ae6d",
   "metadata": {},
   "source": [
    "# 2. What the Heck is the numpy package?\n",
    "Numpy is Python's library that allows us to handle matrix math computations with array and structures. In other words its Python's MATLAB package. By using numpy we can make our program run faster or be more efficient.\n",
    "\n",
    "Let's say you want to compute the dot product of the 2 lists. Let's compare the list method and the numpy method   "
   ]
  },
  {
   "cell_type": "code",
   "execution_count": 4,
   "id": "8379f5ae",
   "metadata": {},
   "outputs": [
    {
     "name": "stdout",
     "output_type": "stream",
     "text": [
      "comparing small dataset: \n",
      "using list for dot product:\n",
      "557 ns ± 14.6 ns per loop (mean ± std. dev. of 7 runs, 1000000 loops each)\n",
      "using numpy for dot product:\n",
      "1.13 µs ± 33.1 ns per loop (mean ± std. dev. of 7 runs, 1000000 loops each)\n",
      "\n",
      "\n",
      "comparing large dataset: \n",
      "using list for dot product:\n",
      "1.03 ms ± 47.2 µs per loop (mean ± std. dev. of 7 runs, 1000 loops each)\n",
      "using numpy for dot product:\n",
      "5.19 µs ± 355 ns per loop (mean ± std. dev. of 7 runs, 100000 loops each)\n"
     ]
    }
   ],
   "source": [
    "import math as m\n",
    "import time\n",
    "import numpy as np\n",
    "\n",
    "\n",
    "def compute_list_dot(list_1, list_2):\n",
    "    \"\"\"this lets us iterate two lists at the same time\"\"\"\n",
    "    dot_list = []\n",
    "    for i,j in zip(list_1, list_2):\n",
    "        dot_list.append(i*j)\n",
    "    \n",
    "    return dot_list\n",
    "\n",
    "def compute_array_dot(array_1, array_2):\n",
    "    \"\"\"\"\"\"\n",
    "    array = np.dot(array_1, array_2)\n",
    "    \n",
    "    return array\n",
    "\n",
    "if __name__ =='__main__':\n",
    "\n",
    "    ## SMALL DATASET\n",
    "    ## using list\n",
    "    print(\"comparing small dataset: \")\n",
    "    list_1 = [2,4,6,8]\n",
    "    list_2= [2,4,6,8]\n",
    "    print(\"using list for dot product:\")\n",
    "    %timeit compute_list_dot(list_1, list_2)\n",
    "    ## using arrays \n",
    "    array_1 = np.array(list_1)\n",
    "    array_2 = np.array(list_2)\n",
    "    print(\"using numpy for dot product:\")\n",
    "    %timeit compute_array_dot(array_1, array_2)\n",
    "    \n",
    "    \n",
    "    print(\"\\n\")\n",
    "    ## LARGE DATASET\n",
    "    print(\"comparing large dataset: \")\n",
    "    list_1 = [i+2 for i in range(10000)]\n",
    "    list_2 = [i+2 for i in range(10000)]\n",
    "    print(\"using list for dot product:\")\n",
    "    %timeit compute_list_dot(list_1, list_2)\n",
    "    array_1 = np.array(list_1)\n",
    "    array_2 = np.array(list_2)\n",
    "    print(\"using numpy for dot product:\")\n",
    "    %timeit compute_array_dot(array_1, array_2)"
   ]
  },
  {
   "cell_type": "markdown",
   "id": "4a90a612",
   "metadata": {},
   "source": [
    "Take notice that with smaller datasets, typical list calculations are faster but with a larger dataset numpy becomes **MUCH** faster than list comprehension. "
   ]
  },
  {
   "cell_type": "markdown",
   "id": "2af6dc45",
   "metadata": {},
   "source": [
    "# 3. Object Oriented Programming, Why should I use it?\n",
    "\n",
    "To put it briefly, Object Oriented Prgoramming or OOP is used to describe real world \"objects\" such as its attributes, and methods, this is known as **Abstraction**. It allows us to further **Modularize** and allow reusablity of our code by just creating this object, or **Instantiation**. Objects are created through a **Class** which describe these attributes or methods.\n",
    "\n",
    "Let's give an example of this, referring back to our old code of computing the magnitude, finding the angle, and calculating the dot product between 2 vectors, we know that this is a representation of a **Vector** so why not create one? For this case we'll make a 2 dimension vector **Vector2d**."
   ]
  },
  {
   "cell_type": "code",
   "execution_count": 5,
   "id": "349c1b3c",
   "metadata": {},
   "outputs": [
    {
     "name": "stdout",
     "output_type": "stream",
     "text": [
      "vector list is [<__main__.Vector object at 0x0000024A72A7E3D0>, <__main__.Vector object at 0x0000024A72A7E220>, <__main__.Vector object at 0x0000024A72A7E340>, <__main__.Vector object at 0x0000024A72A7E4C0>] \n",
      "\n",
      "The dot product of vector [2, 2] and vector [4, 4] is : 16\n"
     ]
    }
   ],
   "source": [
    "import math as m\n",
    "import numpy as np\n",
    "\n",
    "class Vector():\n",
    "    \"\"\"to create or instantiate a vector class we need to input x and y values\n",
    "    has class methods of :\n",
    "    compute_dot \n",
    "    compute_magnitude\n",
    "    compute_deg_angle\n",
    "    \n",
    "    \"\"\"\n",
    "    def __init__(self,x,y):\n",
    "        \"\"\"the self.val describes the ATTRIBUTES of the vector class\"\"\"\n",
    "        self.x = x \n",
    "        self.y = y \n",
    "        self.magnitude = self.compute_magnitude()\n",
    "        \n",
    "    def compute_dot(self, other_vector):\n",
    "        \"\"\"compute the dot product between two vectors\"\"\"\n",
    "        return np.dot(np.array([self.x,self.y]), np.array([other_vector.x,other_vector.y]))\n",
    "        \n",
    "    def compute_magnitude(self):\n",
    "        \"\"\"compute magnitude\"\"\"\n",
    "        return m.sqrt(self.x**2 + self.y**2)\n",
    "\n",
    "    def compute_deg_angle(self):\n",
    "        \"\"\"compute angle in degrees\"\"\"\n",
    "        return m.degrees(m.atan2(self.y, self.x))\n",
    "\n",
    "def create_vectors(x_list, y_list):\n",
    "    \"\"\"instantiate vectors from x list and y list and return the list\n",
    "    of vector objects\"\"\"\n",
    "    #this lets us iterate two lists at the same time\n",
    "    vector_list = []\n",
    "    for i,j in zip(x_list, y_list):\n",
    "        vector_list.append(Vector(i,j))\n",
    "\n",
    "    return vector_list\n",
    "\n",
    "if __name__ =='__main__':\n",
    "    ## assuming all vectors come from origin 0,0\n",
    "    x_list = [2,4,6,8]\n",
    "    y_list= [2,4,6,8]\n",
    "\n",
    "    vector_list =  create_vectors(x_list, y_list)\n",
    "    \n",
    "    #showing the list of vector objects, should be 4 total vector objects\n",
    "    print(\"vector list is\", vector_list,\"\\n\")\n",
    "    \n",
    "    #compute the dot product between first and second vector, using the vector method of compute_dot in the class\n",
    "    dot_product_val = vector_list[0].compute_dot(vector_list[1])\n",
    "    print(\"The dot product of vector\", [vector_list[0].x, vector_list[0].y], \n",
    "         \"and vector\", [vector_list[1].x, vector_list[1].y], \"is :\", dot_product_val)\n",
    "    "
   ]
  },
  {
   "cell_type": "markdown",
   "id": "8c387dac",
   "metadata": {},
   "source": [
    "As you can see we were able to **Abstract** what a 2 dimensional vector was, and from there we **modularized** our code to have methods inside the class on what a vector can do. We then created a method to create or **instantiate Vectors** and allows us to do vector operations on them."
   ]
  }
 ],
 "metadata": {
  "kernelspec": {
   "display_name": "Python 3 (ipykernel)",
   "language": "python",
   "name": "python3"
  },
  "language_info": {
   "codemirror_mode": {
    "name": "ipython",
    "version": 3
   },
   "file_extension": ".py",
   "mimetype": "text/x-python",
   "name": "python",
   "nbconvert_exporter": "python",
   "pygments_lexer": "ipython3",
   "version": "3.8.8"
  }
 },
 "nbformat": 4,
 "nbformat_minor": 5
}
